{
 "cells": [
  {
   "cell_type": "code",
   "execution_count": 2,
   "metadata": {},
   "outputs": [
    {
     "name": "stderr",
     "output_type": "stream",
     "text": [
      "/var/folders/h7/fr7g30_x5x12d68ww_s6w2_m0000gn/T/ipykernel_8412/3296619640.py:5: DeprecationWarning: \n",
      "Pyarrow will become a required dependency of pandas in the next major release of pandas (pandas 3.0),\n",
      "(to allow more performant data types, such as the Arrow string type, and better interoperability with other libraries)\n",
      "but was not found to be installed on your system.\n",
      "If this would cause problems for you,\n",
      "please provide us feedback at https://github.com/pandas-dev/pandas/issues/54466\n",
      "        \n",
      "  import pandas as pd\n"
     ]
    }
   ],
   "source": [
    "import glob\n",
    "import pickle\n",
    "import itertools\n",
    "import numpy as np \n",
    "import pandas as pd\n",
    "import missingno as msno\n",
    "import plotly.express as px\n",
    "import matplotlib.pyplot as plt\n",
    "import seaborn as sns\n",
    "\n",
    "from sklearn.impute import SimpleImputer, KNNImputer\n"
   ]
  },
  {
   "cell_type": "code",
   "execution_count": 2,
   "metadata": {},
   "outputs": [
    {
     "name": "stdout",
     "output_type": "stream",
     "text": [
      "/Users/melloo21/Desktop/NUS Items/CS4220/cs4220_projects/data/raw_csv/real2_part2_final.csv\n",
      "/Users/melloo21/Desktop/NUS Items/CS4220/cs4220_projects/data/raw_csv/syn3_final.csv\n",
      "/Users/melloo21/Desktop/NUS Items/CS4220/cs4220_projects/data/raw_csv/real1_final.csv\n",
      "/Users/melloo21/Desktop/NUS Items/CS4220/cs4220_projects/data/raw_csv/syn5_final.csv\n",
      "/Users/melloo21/Desktop/NUS Items/CS4220/cs4220_projects/data/raw_csv/syn2_final.csv\n",
      "/Users/melloo21/Desktop/NUS Items/CS4220/cs4220_projects/data/raw_csv/syn4_final.csv\n",
      "/Users/melloo21/Desktop/NUS Items/CS4220/cs4220_projects/data/raw_csv/syn1_final.csv\n",
      "/Users/melloo21/Desktop/NUS Items/CS4220/cs4220_projects/data/raw_csv/real2_part1_final.csv\n",
      "/Users/melloo21/Desktop/NUS Items/CS4220/cs4220_projects/data/raw_csv/real2_final.csv\n"
     ]
    }
   ],
   "source": [
    "for elem in glob.glob(f\"/Users/melloo21/Desktop/NUS Items/CS4220/cs4220_projects/data/raw_csv/*.csv\"):\n",
    "    print(elem)  "
   ]
  },
  {
   "cell_type": "code",
   "execution_count": 6,
   "metadata": {},
   "outputs": [],
   "source": [
    "dataset = \"real2_final\"\n",
    "file = f\"/Users/melloo21/Desktop/NUS Items/CS4220/cs4220_projects/data/raw_csv/{dataset}.csv\""
   ]
  },
  {
   "cell_type": "code",
   "execution_count": 4,
   "metadata": {},
   "outputs": [
    {
     "name": "stderr",
     "output_type": "stream",
     "text": [
      "/var/folders/h7/fr7g30_x5x12d68ww_s6w2_m0000gn/T/ipykernel_8412/2435180217.py:5: DtypeWarning: Columns (1) have mixed types. Specify dtype option on import or set low_memory=False.\n",
      "  orig_df = pd.read_csv(final,sep='\\t')\n"
     ]
    },
    {
     "name": "stdout",
     "output_type": "stream",
     "text": [
      "<class 'pandas.core.frame.DataFrame'>\n",
      "RangeIndex: 63861 entries, 0 to 63860\n",
      "Data columns (total 56 columns):\n",
      " #   Column            Non-Null Count  Dtype  \n",
      "---  ------            --------------  -----  \n",
      " 0   Unnamed: 0        63861 non-null  int64  \n",
      " 1   Chr               63861 non-null  object \n",
      " 2   START_POS_REF     63861 non-null  int64  \n",
      " 3   END_POS_REF       63861 non-null  int64  \n",
      " 4   REF               63861 non-null  object \n",
      " 5   ALT               63861 non-null  object \n",
      " 6   REF_MFVdVs        63861 non-null  object \n",
      " 7   ALT_MFVdVs        63861 non-null  object \n",
      " 8   Sample_Name       63861 non-null  object \n",
      " 9   FILTER_Mutect2    63861 non-null  bool   \n",
      " 10  FILTER_Freebayes  63861 non-null  bool   \n",
      " 11  FILTER_Vardict    63861 non-null  bool   \n",
      " 12  FILTER_Varscan    63861 non-null  bool   \n",
      " 13  m2_MQ             12328 non-null  float64\n",
      " 14  m2_FS             12328 non-null  float64\n",
      " 15  m2_MQ0            12328 non-null  float64\n",
      " 16  m2_MQRankSum      12327 non-null  float64\n",
      " 17  m2_NLOD           12328 non-null  float64\n",
      " 18  m2_PON            0 non-null      float64\n",
      " 19  f_MQMR            9720 non-null   float64\n",
      " 20  f_MQM             9720 non-null   float64\n",
      " 21  f_AB              9720 non-null   float64\n",
      " 22  f_ABP             9720 non-null   float64\n",
      " 23  f_AC              16913 non-null  float64\n",
      " 24  f_AF              16913 non-null  float64\n",
      " 25  f_AN              16913 non-null  float64\n",
      " 26  f_AO              9720 non-null   float64\n",
      " 27  f_GTI             9720 non-null   float64\n",
      " 28  f_LEN             16913 non-null  float64\n",
      " 29  f_MEANALT         9720 non-null   float64\n",
      " 30  f_MIN_DP          0 non-null      float64\n",
      " 31  f_NS              16913 non-null  float64\n",
      " 32  f_NUMALT          9720 non-null   float64\n",
      " 33  f_ODDS            9720 non-null   float64\n",
      " 34  f_PAIRED          9720 non-null   float64\n",
      " 35  f_PAIREDR         9720 non-null   float64\n",
      " 36  f_PAO             9720 non-null   float64\n",
      " 37  f_PQA             9720 non-null   float64\n",
      " 38  f_PQR             9720 non-null   float64\n",
      " 39  f_PRO             9720 non-null   float64\n",
      " 40  f_QA              9720 non-null   float64\n",
      " 41  f_QR              9720 non-null   float64\n",
      " 42  f_RO              9720 non-null   float64\n",
      " 43  f_RPL             9720 non-null   float64\n",
      " 44  f_RPP             9720 non-null   float64\n",
      " 45  vs_DP             50915 non-null  float64\n",
      " 46  vs_GPV            50915 non-null  float64\n",
      " 47  vs_SPV            50915 non-null  float64\n",
      " 48  vs_SSC            50915 non-null  float64\n",
      " 49  vd_AF             24036 non-null  float64\n",
      " 50  vd_DP             24036 non-null  float64\n",
      " 51  vd_MSI            24036 non-null  float64\n",
      " 52  vd_SAMPLE         0 non-null      float64\n",
      " 53  vd_SOR            24036 non-null  float64\n",
      " 54  vd_SSF            24036 non-null  float64\n",
      " 55  vd_VD             24036 non-null  float64\n",
      "dtypes: bool(4), float64(43), int64(3), object(6)\n",
      "memory usage: 25.6+ MB\n"
     ]
    },
    {
     "data": {
      "text/plain": [
       "None"
      ]
     },
     "metadata": {},
     "output_type": "display_data"
    }
   ],
   "source": [
    "# To get final results\n",
    "final = f\"/Users/melloo21/Desktop/NUS Items/CS4220/cs4220_projects/data/raw_csv/real2_part2_final.csv\"\n",
    "\n",
    "# read_file and check type\n",
    "orig_df = pd.read_csv(final,sep='\\t')\n",
    "display(orig_df.info())\n"
   ]
  },
  {
   "cell_type": "code",
   "execution_count": 7,
   "metadata": {},
   "outputs": [
    {
     "name": "stdout",
     "output_type": "stream",
     "text": [
      "<class 'pandas.core.frame.DataFrame'>\n",
      "RangeIndex: 22613 entries, 0 to 22612\n",
      "Data columns (total 57 columns):\n",
      " #   Column            Non-Null Count  Dtype  \n",
      "---  ------            --------------  -----  \n",
      " 0   Unnamed: 0        22613 non-null  int64  \n",
      " 1   Chr               22613 non-null  int64  \n",
      " 2   START_POS_REF     22613 non-null  int64  \n",
      " 3   END_POS_REF       22613 non-null  int64  \n",
      " 4   REF               22613 non-null  object \n",
      " 5   ALT               22613 non-null  object \n",
      " 6   REF_MFVdVs        22613 non-null  object \n",
      " 7   ALT_MFVdVs        22613 non-null  object \n",
      " 8   Sample_Name       22613 non-null  object \n",
      " 9   FILTER_Mutect2    22613 non-null  bool   \n",
      " 10  FILTER_Freebayes  22613 non-null  bool   \n",
      " 11  FILTER_Vardict    22613 non-null  bool   \n",
      " 12  FILTER_Varscan    22613 non-null  bool   \n",
      " 13  m2_MQ             5096 non-null   float64\n",
      " 14  m2_FS             5096 non-null   float64\n",
      " 15  m2_MQ0            5096 non-null   float64\n",
      " 16  m2_MQRankSum      5095 non-null   float64\n",
      " 17  m2_NLOD           5096 non-null   float64\n",
      " 18  m2_PON            0 non-null      float64\n",
      " 19  f_MQMR            4048 non-null   float64\n",
      " 20  f_MQM             4048 non-null   float64\n",
      " 21  f_AB              4048 non-null   float64\n",
      " 22  f_ABP             4048 non-null   float64\n",
      " 23  f_AC              7119 non-null   object \n",
      " 24  f_AF              7119 non-null   object \n",
      " 25  f_AN              7119 non-null   float64\n",
      " 26  f_AO              4048 non-null   float64\n",
      " 27  f_GTI             4048 non-null   float64\n",
      " 28  f_LEN             7119 non-null   object \n",
      " 29  f_MEANALT         4048 non-null   float64\n",
      " 30  f_MIN_DP          0 non-null      float64\n",
      " 31  f_NS              7119 non-null   float64\n",
      " 32  f_NUMALT          4048 non-null   float64\n",
      " 33  f_ODDS            4048 non-null   float64\n",
      " 34  f_PAIRED          4048 non-null   float64\n",
      " 35  f_PAIREDR         4048 non-null   float64\n",
      " 36  f_PAO             4048 non-null   float64\n",
      " 37  f_PQA             4048 non-null   float64\n",
      " 38  f_PQR             4048 non-null   float64\n",
      " 39  f_PRO             4048 non-null   float64\n",
      " 40  f_QA              4048 non-null   float64\n",
      " 41  f_QR              4048 non-null   float64\n",
      " 42  f_RO              4048 non-null   float64\n",
      " 43  f_RPL             4048 non-null   float64\n",
      " 44  f_RPP             4048 non-null   float64\n",
      " 45  vs_DP             16859 non-null  float64\n",
      " 46  vs_GPV            16859 non-null  float64\n",
      " 47  vs_SPV            16859 non-null  float64\n",
      " 48  vs_SSC            16859 non-null  float64\n",
      " 49  vd_AF             9999 non-null   float64\n",
      " 50  vd_DP             9999 non-null   float64\n",
      " 51  vd_MSI            9999 non-null   float64\n",
      " 52  vd_SAMPLE         2 non-null      object \n",
      " 53  vd_SOR            9999 non-null   float64\n",
      " 54  vd_SSF            9999 non-null   float64\n",
      " 55  vd_VD             9999 non-null   float64\n",
      " 56  is_snv            22613 non-null  bool   \n",
      "dtypes: bool(5), float64(39), int64(4), object(9)\n",
      "memory usage: 9.1+ MB\n"
     ]
    },
    {
     "name": "stderr",
     "output_type": "stream",
     "text": [
      "/var/folders/h7/fr7g30_x5x12d68ww_s6w2_m0000gn/T/ipykernel_6905/1504867127.py:2: DtypeWarning: Columns (23,24,28) have mixed types. Specify dtype option on import or set low_memory=False.\n",
      "  orig_df = pd.read_csv(file,sep='\\t')\n"
     ]
    },
    {
     "data": {
      "text/plain": [
       "None"
      ]
     },
     "metadata": {},
     "output_type": "display_data"
    }
   ],
   "source": [
    "# read_file and check type\n",
    "orig_df = pd.read_csv(file,sep='\\t')\n",
    "orig_df = orig_df.dropna(subset=['FILTER_Mutect2', 'FILTER_Freebayes','FILTER_Vardict','FILTER_Varscan'])\n",
    "\n",
    "# Ensure type if this step fails check\n",
    "# orig_df = orig_df.astype({\"f_AC\": 'float64',\"f_AF\": 'float64',\"f_LEN\": 'float64'})\n",
    "display(orig_df.info())\n",
    "\n",
    "#  45  f_AC              42745 non-null  object \n",
    "#  46  f_AF              42745 non-null  object \n",
    "#  47  f_LEN             42745 non-null  object "
   ]
  },
  {
   "cell_type": "code",
   "execution_count": 5,
   "metadata": {},
   "outputs": [],
   "source": [
    "# # Process unclean rows\n",
    "# print(np.unique(orig_df['f_AC'].astype(str)))\n",
    "# print(np.unique(orig_df['f_AF'].astype(str)))\n",
    "# print(np.unique(orig_df['f_LEN'].astype(str)))"
   ]
  },
  {
   "cell_type": "code",
   "execution_count": 5,
   "metadata": {},
   "outputs": [
    {
     "data": {
      "text/plain": [
       "29"
      ]
     },
     "metadata": {},
     "output_type": "display_data"
    }
   ],
   "source": [
    "features_to_remove = [\n",
    "    'REF',\n",
    "    'Unnamed: 0',\n",
    "    'Chr',\n",
    "    'START_POS_REF',\n",
    "    'END_POS_REF',\n",
    "    'f_AF',\n",
    "    'f_GTI',\n",
    "    'f_AC',\n",
    "    'f_NUMALT',\n",
    "    'f_AO',\n",
    "    'f_LEN',\n",
    "    'f_AN',\n",
    "    'ALT',\n",
    "    'REF_MFVdVs',\n",
    "    'ALT_MFVdVs',\n",
    "    'Sample_Name',\n",
    "    'vd_SAMPLE',\n",
    "    'f_MIN_DP',\n",
    "    'm2_PON',\n",
    "    'f_NS',\n",
    "    'f_PAO',\n",
    "    'f_PQR',\n",
    "    'f_PRO',\n",
    "    'f_PQA',\n",
    "    'f_QA',\n",
    "    'f_RO',\n",
    "    'f_RPL',\n",
    "    'is_snv']\n",
    "\n",
    "feature_list = [x for x in list(orig_df.columns) if x not in features_to_remove]\n",
    "display(len(feature_list))\n"
   ]
  },
  {
   "cell_type": "code",
   "execution_count": 9,
   "metadata": {},
   "outputs": [
    {
     "data": {
      "text/plain": [
       "[Text(0, 0, '97.9525'), Text(0, 0, '2.04749')]"
      ]
     },
     "execution_count": 9,
     "metadata": {},
     "output_type": "execute_result"
    },
    {
     "data": {
      "image/png": "[encoded data removed]",
      "text/plain": [
       "<Figure size 640x480 with 1 Axes>"
      ]
     },
     "metadata": {},
     "output_type": "display_data"
    }
   ],
   "source": [
    "# Check for the proportion of SNV and non SNV\n",
    "ax = sns.countplot(orig_df, x=\"is_snv\", stat=\"percent\")\n",
    "ax.bar_label(ax.containers[0])"
   ]
  },
  {
   "cell_type": "markdown",
   "metadata": {},
   "source": [
    "# Reduction in Class Imbalanced Sampling Methods "
   ]
  },
  {
   "cell_type": "markdown",
   "metadata": {},
   "source": [
    "## Down Sampling"
   ]
  },
  {
   "cell_type": "code",
   "execution_count": 9,
   "metadata": {},
   "outputs": [
    {
     "name": "stdout",
     "output_type": "stream",
     "text": [
      "class 0: (22150, 57)\n",
      "class 1: (463, 57)\n",
      "To drop : 21456.0, maj counts: 694.0\n"
     ]
    }
   ],
   "source": [
    "\n",
    "# Separate class\n",
    "classes = { \n",
    "    \"class_0\" : (orig_df[orig_df['is_snv'] == 0], len(orig_df[orig_df['is_snv'] == 0])),\n",
    "    \"class_1\" : (orig_df[orig_df['is_snv'] == 1], len(orig_df[orig_df['is_snv'] == 1]))\n",
    " } # print the shape of the class\n",
    "\n",
    "print('class 0:', classes[\"class_0\"][0].shape)\n",
    "print('class 1:', classes[\"class_1\"][0].shape)\n",
    "val_prev = 0\n",
    "\n",
    "for key, value in classes.items():\n",
    "    if value[1] > val_prev:\n",
    "        max_class = key\n",
    "        val_prev = value[1]\n",
    "min_class = [elem for elem in classes.keys() if max_class not in elem][0]\n",
    "max_class_df = classes[max_class][0]\n",
    "min_class_df = classes[min_class][0]    \n",
    "\n",
    "min_count = classes[min_class][1]  \n",
    "max_count = classes[max_class][1]  \n",
    "\n",
    "# Get the number of majority class to drop\n",
    "maj_counts = round((min_count/0.4 * 0.6),0)\n",
    "drop_num =  max_count - maj_counts\n",
    "print(f\"To drop : {drop_num}, maj counts: {maj_counts}\")"
   ]
  },
  {
   "cell_type": "code",
   "execution_count": 10,
   "metadata": {},
   "outputs": [
    {
     "name": "stdout",
     "output_type": "stream",
     "text": [
      "keep_idx len :: 265\n",
      "keep_idx len 2:: 335\n",
      " Resampled_maj due to insufficient data 70 , 429.0 -- resample\n",
      "Counts :: 1157.0, 1157\n",
      "df shape :: (1157, 57), Ensure no overlapping index :: 1157\n"
     ]
    }
   ],
   "source": [
    "# Drop from the list of non-null\n",
    "key_feature = ['m2_FS',\n",
    "    'f_ABP',\n",
    "    'f_PAIREDR',\n",
    "    'vd_AF',\n",
    "    'f_GTI',\n",
    "    'm2_NLOD',\n",
    "    'f_ODDS',\n",
    "    'f_QR',\n",
    "    'f_AO',\n",
    "    'f_RPP']\n",
    "\n",
    "keep_idx = list(max_class_df[feature_list].dropna().index)\n",
    "kept_df = max_class_df.loc[keep_idx]\n",
    "print(f\"keep_idx len :: {len(keep_idx)}\")\n",
    "len_keep = len(kept_df)\n",
    "if len_keep > maj_counts:\n",
    "    print(f\" maj_counts {maj_counts} , {len_keep} -- no need to sample\")\n",
    "    # Randomly sample from the kept_df \n",
    "    df = pd.concat([kept_df.sample(int(maj_counts)),min_class_df])\n",
    "else:\n",
    "    sample_num = maj_counts - len_keep\n",
    "    sampled_maj = max_class_df[~max_class_df[key_feature].isna().any(axis=1)]\n",
    "    sampled_maj = sampled_maj[~sampled_maj.index.isin(keep_idx)]\n",
    "    keep_idx.extend(sampled_maj.index)\n",
    "    print(f\"keep_idx len 2:: {len(keep_idx)}\")\n",
    "    if (len(sampled_maj) >= sample_num): \n",
    "        print(f\" sampled_maj {len(sampled_maj) } , {sample_num} -- no need to resample\")\n",
    "        sampled_maj = sampled_maj.sample(int(sample_num))\n",
    "        df = pd.concat([kept_df,min_class_df,sampled_maj])\n",
    "\n",
    "    elif len(sampled_maj) > 0:\n",
    "        print(f\" Resampled_maj due to insufficient data {len(sampled_maj) } , {sample_num} -- resample\")\n",
    "        new_int = sample_num - len(sampled_maj)\n",
    "        new_kept = max_class_df[~max_class_df.index.isin(keep_idx)].sample(int(new_int))\n",
    "        df = pd.concat([kept_df,new_kept,min_class_df,sampled_maj])\n",
    "\n",
    "    else:\n",
    "        print(f\" Resampled from max due to empty data {len(sampled_maj) } , {sample_num} -- resample\")\n",
    "        # Sample everything\n",
    "        new_kept = max_class_df.sample(int(sample_num))\n",
    "        df = pd.concat([kept_df,new_kept,min_class_df])\n",
    "\n",
    "# Check if total numbers match\n",
    "print(f\"Counts :: {(min_count + maj_counts)}, {df.shape[0]}\")\n",
    "assert (min_count + maj_counts) == df.shape[0], \"Does not match in numbers\"\n",
    "print(f\"df shape :: {df.shape}, Ensure no overlapping index :: {df.index.nunique()}\")"
   ]
  },
  {
   "cell_type": "code",
   "execution_count": 7,
   "metadata": {},
   "outputs": [],
   "source": [
    "# Change into features and labels \n",
    "# Dropping entirely null columns\n",
    "# If no down sampling \n",
    "df = orig_df.copy()\n",
    "x_df = df.copy().drop(columns=[\"is_snv\",\"m2_PON\",\"f_MIN_DP\"])\n",
    "y_df = df.copy()[[\"is_snv\"]]"
   ]
  },
  {
   "cell_type": "code",
   "execution_count": 8,
   "metadata": {},
   "outputs": [
    {
     "name": "stdout",
     "output_type": "stream",
     "text": [
      " numeric int64 :: Unnamed: 0\n",
      " cat object :: Chr\n",
      " numeric int64 :: START_POS_REF\n",
      " numeric int64 :: END_POS_REF\n",
      " cat object :: REF\n",
      " cat object :: ALT\n",
      " cat object :: REF_MFVdVs\n",
      " cat object :: ALT_MFVdVs\n",
      " cat object :: Sample_Name\n",
      " cat bool :: FILTER_Mutect2\n",
      " cat bool :: FILTER_Freebayes\n",
      " cat bool :: FILTER_Vardict\n",
      " cat bool :: FILTER_Varscan\n",
      " numeric float64 :: m2_MQ\n",
      " numeric float64 :: m2_FS\n",
      " numeric float64 :: m2_MQ0\n",
      " numeric float64 :: m2_MQRankSum\n",
      " numeric float64 :: m2_NLOD\n",
      " numeric float64 :: f_MQMR\n",
      " numeric float64 :: f_MQM\n",
      " numeric float64 :: f_AB\n",
      " numeric float64 :: f_ABP\n",
      " numeric float64 :: f_AC\n",
      " numeric float64 :: f_AF\n",
      " numeric float64 :: f_AN\n",
      " numeric float64 :: f_AO\n",
      " numeric float64 :: f_GTI\n",
      " numeric float64 :: f_LEN\n",
      " numeric float64 :: f_MEANALT\n",
      " numeric float64 :: f_NS\n",
      " numeric float64 :: f_NUMALT\n",
      " numeric float64 :: f_ODDS\n",
      " numeric float64 :: f_PAIRED\n",
      " numeric float64 :: f_PAIREDR\n",
      " numeric float64 :: f_PAO\n",
      " numeric float64 :: f_PQA\n",
      " numeric float64 :: f_PQR\n",
      " numeric float64 :: f_PRO\n",
      " numeric float64 :: f_QA\n",
      " numeric float64 :: f_QR\n",
      " numeric float64 :: f_RO\n",
      " numeric float64 :: f_RPL\n",
      " numeric float64 :: f_RPP\n",
      " numeric float64 :: vs_DP\n",
      " numeric float64 :: vs_GPV\n",
      " numeric float64 :: vs_SPV\n",
      " numeric float64 :: vs_SSC\n",
      " numeric float64 :: vd_AF\n",
      " numeric float64 :: vd_DP\n",
      " numeric float64 :: vd_MSI\n",
      " numeric float64 :: vd_SAMPLE\n",
      " numeric float64 :: vd_SOR\n",
      " numeric float64 :: vd_SSF\n",
      " numeric float64 :: vd_VD\n"
     ]
    }
   ],
   "source": [
    "# Split data into categorical and non categorical\n",
    "list_of_categorical = list()\n",
    "list_of_numerical = list()\n",
    "\n",
    "numerical = [\"int64\", \"float64\"]\n",
    "for elem in x_df.dtypes.items():\n",
    "    name, col_type = elem\n",
    "    if col_type in numerical:\n",
    "        print(f\" numeric {col_type} :: {name}\")\n",
    "        list_of_numerical.append(name)\n",
    "    else:\n",
    "        print(f\" cat {col_type} :: {name}\")\n",
    "        list_of_categorical.append(name)\n"
   ]
  },
  {
   "cell_type": "code",
   "execution_count": 9,
   "metadata": {},
   "outputs": [],
   "source": [
    "# remove certain elements\n",
    "list_of_categorical = [\n",
    " 'FILTER_Mutect2',\n",
    " 'FILTER_Freebayes',\n",
    " 'FILTER_Vardict',\n",
    " 'FILTER_Varscan',]"
   ]
  },
  {
   "cell_type": "code",
   "execution_count": 10,
   "metadata": {},
   "outputs": [
    {
     "data": {
      "text/html": [
       "<div>\n",
       "<style scoped>\n",
       "    .dataframe tbody tr th:only-of-type {\n",
       "        vertical-align: middle;\n",
       "    }\n",
       "\n",
       "    .dataframe tbody tr th {\n",
       "        vertical-align: top;\n",
       "    }\n",
       "\n",
       "    .dataframe thead th {\n",
       "        text-align: right;\n",
       "    }\n",
       "</style>\n",
       "<table border=\"1\" class=\"dataframe\">\n",
       "  <thead>\n",
       "    <tr style=\"text-align: right;\">\n",
       "      <th></th>\n",
       "      <th>vd_SOR</th>\n",
       "    </tr>\n",
       "  </thead>\n",
       "  <tbody>\n",
       "    <tr>\n",
       "      <th>0</th>\n",
       "      <td>inf</td>\n",
       "    </tr>\n",
       "    <tr>\n",
       "      <th>4</th>\n",
       "      <td>inf</td>\n",
       "    </tr>\n",
       "    <tr>\n",
       "      <th>5</th>\n",
       "      <td>inf</td>\n",
       "    </tr>\n",
       "    <tr>\n",
       "      <th>9</th>\n",
       "      <td>inf</td>\n",
       "    </tr>\n",
       "    <tr>\n",
       "      <th>10</th>\n",
       "      <td>inf</td>\n",
       "    </tr>\n",
       "    <tr>\n",
       "      <th>...</th>\n",
       "      <td>...</td>\n",
       "    </tr>\n",
       "    <tr>\n",
       "      <th>63439</th>\n",
       "      <td>inf</td>\n",
       "    </tr>\n",
       "    <tr>\n",
       "      <th>63440</th>\n",
       "      <td>inf</td>\n",
       "    </tr>\n",
       "    <tr>\n",
       "      <th>63441</th>\n",
       "      <td>inf</td>\n",
       "    </tr>\n",
       "    <tr>\n",
       "      <th>63442</th>\n",
       "      <td>inf</td>\n",
       "    </tr>\n",
       "    <tr>\n",
       "      <th>63444</th>\n",
       "      <td>inf</td>\n",
       "    </tr>\n",
       "  </tbody>\n",
       "</table>\n",
       "<p>12910 rows × 1 columns</p>\n",
       "</div>"
      ],
      "text/plain": [
       "       vd_SOR\n",
       "0         inf\n",
       "4         inf\n",
       "5         inf\n",
       "9         inf\n",
       "10        inf\n",
       "...       ...\n",
       "63439     inf\n",
       "63440     inf\n",
       "63441     inf\n",
       "63442     inf\n",
       "63444     inf\n",
       "\n",
       "[12910 rows x 1 columns]"
      ]
     },
     "metadata": {},
     "output_type": "display_data"
    }
   ],
   "source": [
    "# Basic check of which rows have inf values\n",
    "numerical_df = x_df[list_of_numerical].copy()\n",
    "m = (numerical_df == np.inf)\n",
    "inf_check = numerical_df.loc[m.any(axis=1), m.any(axis=0)]\n",
    "display(inf_check) # Description=\"Odds ratio\">\n",
    "# Replace inf value with nan to prevent numerical overflow for imputation methods\n",
    "# df.replace(np.inf, np.nan)\n",
    "\n",
    "# OR=1 Exposure does not affect odds of outcome\n",
    "# OR>1 Exposure associated with higher odds of outcome\n",
    "# OR<1 Exposure associated with lower odds of outcome\n",
    "\n",
    "# Should I replace inf with a high value?\n",
    "numerical_df = numerical_df.replace(np.inf, 100)"
   ]
  },
  {
   "cell_type": "code",
   "execution_count": 11,
   "metadata": {},
   "outputs": [],
   "source": [
    "filt = ['m2_MQ',\n",
    " 'm2_FS',\n",
    " 'm2_MQ0',\n",
    " 'm2_MQRankSum',\n",
    " 'm2_NLOD',\n",
    " 'f_MQMR',\n",
    " 'f_MQM',\n",
    " 'f_AB',\n",
    " 'f_ABP',\n",
    " 'f_MEANALT',\n",
    " 'f_ODDS',\n",
    " 'f_PAIRED',\n",
    " 'f_PAIREDR',\n",
    " 'f_QR',\n",
    " 'f_RPP',\n",
    " 'vs_DP',\n",
    " 'vs_GPV',\n",
    " 'vs_SPV',\n",
    " 'vs_SSC',\n",
    " 'vd_AF',\n",
    " 'vd_DP',\n",
    " 'vd_MSI',\n",
    " 'vd_SOR',\n",
    " 'vd_SSF',\n",
    " 'vd_VD']"
   ]
  },
  {
   "cell_type": "markdown",
   "metadata": {},
   "source": [
    "### Median imputation"
   ]
  },
  {
   "cell_type": "code",
   "execution_count": 12,
   "metadata": {},
   "outputs": [
    {
     "data": {
      "text/plain": [
       "m2_MQ           0\n",
       "m2_FS           0\n",
       "m2_MQ0          0\n",
       "m2_MQRankSum    0\n",
       "m2_NLOD         0\n",
       "f_MQMR          0\n",
       "f_MQM           0\n",
       "f_AB            0\n",
       "f_ABP           0\n",
       "f_MEANALT       0\n",
       "f_ODDS          0\n",
       "f_PAIRED        0\n",
       "f_PAIREDR       0\n",
       "f_QR            0\n",
       "f_RPP           0\n",
       "vs_DP           0\n",
       "vs_GPV          0\n",
       "vs_SPV          0\n",
       "vs_SSC          0\n",
       "vd_AF           0\n",
       "vd_DP           0\n",
       "vd_MSI          0\n",
       "vd_SOR          0\n",
       "vd_SSF          0\n",
       "vd_VD           0\n",
       "dtype: int64"
      ]
     },
     "metadata": {},
     "output_type": "display_data"
    }
   ],
   "source": [
    "numerical_median_imp = numerical_df[filt].copy()\n",
    "# Impute with numerical columns mean\n",
    "imp = SimpleImputer(missing_values=np.nan, strategy='median')\n",
    "# Replacing the values\n",
    "numerical_median_imp.iloc[:,:] = imp.fit_transform(numerical_median_imp)\n",
    "display(numerical_median_imp.isna().sum())"
   ]
  },
  {
   "cell_type": "markdown",
   "metadata": {},
   "source": [
    "## Categorical feature processing"
   ]
  },
  {
   "cell_type": "code",
   "execution_count": 13,
   "metadata": {},
   "outputs": [
    {
     "data": {
      "text/html": [
       "<div>\n",
       "<style scoped>\n",
       "    .dataframe tbody tr th:only-of-type {\n",
       "        vertical-align: middle;\n",
       "    }\n",
       "\n",
       "    .dataframe tbody tr th {\n",
       "        vertical-align: top;\n",
       "    }\n",
       "\n",
       "    .dataframe thead th {\n",
       "        text-align: right;\n",
       "    }\n",
       "</style>\n",
       "<table border=\"1\" class=\"dataframe\">\n",
       "  <thead>\n",
       "    <tr style=\"text-align: right;\">\n",
       "      <th></th>\n",
       "      <th>FILTER_Mutect2</th>\n",
       "      <th>FILTER_Freebayes</th>\n",
       "      <th>FILTER_Vardict</th>\n",
       "      <th>FILTER_Varscan</th>\n",
       "    </tr>\n",
       "  </thead>\n",
       "  <tbody>\n",
       "    <tr>\n",
       "      <th>0</th>\n",
       "      <td>0</td>\n",
       "      <td>0</td>\n",
       "      <td>0</td>\n",
       "      <td>1</td>\n",
       "    </tr>\n",
       "    <tr>\n",
       "      <th>1</th>\n",
       "      <td>0</td>\n",
       "      <td>0</td>\n",
       "      <td>0</td>\n",
       "      <td>1</td>\n",
       "    </tr>\n",
       "    <tr>\n",
       "      <th>2</th>\n",
       "      <td>0</td>\n",
       "      <td>0</td>\n",
       "      <td>0</td>\n",
       "      <td>1</td>\n",
       "    </tr>\n",
       "    <tr>\n",
       "      <th>3</th>\n",
       "      <td>0</td>\n",
       "      <td>0</td>\n",
       "      <td>0</td>\n",
       "      <td>1</td>\n",
       "    </tr>\n",
       "    <tr>\n",
       "      <th>4</th>\n",
       "      <td>0</td>\n",
       "      <td>0</td>\n",
       "      <td>1</td>\n",
       "      <td>1</td>\n",
       "    </tr>\n",
       "    <tr>\n",
       "      <th>...</th>\n",
       "      <td>...</td>\n",
       "      <td>...</td>\n",
       "      <td>...</td>\n",
       "      <td>...</td>\n",
       "    </tr>\n",
       "    <tr>\n",
       "      <th>63856</th>\n",
       "      <td>0</td>\n",
       "      <td>0</td>\n",
       "      <td>0</td>\n",
       "      <td>1</td>\n",
       "    </tr>\n",
       "    <tr>\n",
       "      <th>63857</th>\n",
       "      <td>0</td>\n",
       "      <td>0</td>\n",
       "      <td>0</td>\n",
       "      <td>1</td>\n",
       "    </tr>\n",
       "    <tr>\n",
       "      <th>63858</th>\n",
       "      <td>1</td>\n",
       "      <td>0</td>\n",
       "      <td>0</td>\n",
       "      <td>0</td>\n",
       "    </tr>\n",
       "    <tr>\n",
       "      <th>63859</th>\n",
       "      <td>1</td>\n",
       "      <td>0</td>\n",
       "      <td>0</td>\n",
       "      <td>0</td>\n",
       "    </tr>\n",
       "    <tr>\n",
       "      <th>63860</th>\n",
       "      <td>1</td>\n",
       "      <td>0</td>\n",
       "      <td>0</td>\n",
       "      <td>0</td>\n",
       "    </tr>\n",
       "  </tbody>\n",
       "</table>\n",
       "<p>63861 rows × 4 columns</p>\n",
       "</div>"
      ],
      "text/plain": [
       "       FILTER_Mutect2  FILTER_Freebayes  FILTER_Vardict  FILTER_Varscan\n",
       "0                   0                 0               0               1\n",
       "1                   0                 0               0               1\n",
       "2                   0                 0               0               1\n",
       "3                   0                 0               0               1\n",
       "4                   0                 0               1               1\n",
       "...               ...               ...             ...             ...\n",
       "63856               0                 0               0               1\n",
       "63857               0                 0               0               1\n",
       "63858               1                 0               0               0\n",
       "63859               1                 0               0               0\n",
       "63860               1                 0               0               0\n",
       "\n",
       "[63861 rows x 4 columns]"
      ]
     },
     "metadata": {},
     "output_type": "display_data"
    }
   ],
   "source": [
    "cat_features = x_df[list_of_categorical].copy()\n",
    "# Convert Filter to boolean 1/0\n",
    "filter_list = [elem for elem in cat_features.columns if \"FILTER\" in elem]\n",
    "cat_features[filter_list] = cat_features[filter_list].astype('int32')\n",
    "cat_features\n",
    "display(cat_features)"
   ]
  },
  {
   "cell_type": "markdown",
   "metadata": {},
   "source": [
    "# Feature Selection"
   ]
  },
  {
   "cell_type": "code",
   "execution_count": 14,
   "metadata": {},
   "outputs": [],
   "source": [
    "# Concat with the cat features\n",
    "# mean_input = pd.concat([numerical_mean_imp,df[list_of_categorical]], axis=1)\n",
    "median_input = pd.concat([numerical_median_imp,cat_features], axis=1)\n",
    "# mode_input = pd.concat([numerical_mode_imp,df[list_of_categorical]], axis=1)"
   ]
  },
  {
   "cell_type": "code",
   "execution_count": 15,
   "metadata": {},
   "outputs": [],
   "source": [
    "# remove positions\n",
    "# mean_input = mean_input[feature_list]\n",
    "median_input = median_input[feature_list]\n",
    "# mode_input = mode_input[feature_list]"
   ]
  },
  {
   "cell_type": "code",
   "execution_count": 19,
   "metadata": {},
   "outputs": [],
   "source": [
    "pos_idx = df[['Chr','START_POS_REF', 'END_POS_REF']]\n",
    "y_idx = df.is_snv\n",
    "\n",
    "print(f\" Check the classes :: {y_idx.value_counts()} \")\n",
    "\n",
    "assert len(pos_idx) == len(median_input) == len(y_idx), \"All same length\"\n",
    "\n",
    "feature_set = {\n",
    "    \"median_input\": median_input,\n",
    "    \"POS_IDX\": pos_idx,\n",
    "    \"y_label\" : y_idx\n",
    "}"
   ]
  },
  {
   "cell_type": "code",
   "execution_count": 20,
   "metadata": {},
   "outputs": [
    {
     "name": "stdout",
     "output_type": "stream",
     "text": [
      "saved combined\n"
     ]
    }
   ],
   "source": [
    "# Save Pickle file\n",
    "filepath = \"/Users/melloo21/Desktop/NUS Items/CS4220/cs4220_projects/data/feature_set\"\n",
    "feature_filename =f\"feature_set_{dataset}_final\"\n",
    "with open(f'{filepath}/{feature_filename}.pickle', 'wb') as handle:\n",
    "    pickle.dump(feature_set, handle, protocol=pickle.HIGHEST_PROTOCOL)\n",
    "print(f\"saved {dataset}\")"
   ]
  },
  {
   "cell_type": "code",
   "execution_count": null,
   "metadata": {},
   "outputs": [],
   "source": []
  }
 ],
 "metadata": {
  "kernelspec": {
   "display_name": "Python 3",
   "language": "python",
   "name": "python3"
  },
  "language_info": {
   "codemirror_mode": {
    "name": "ipython",
    "version": 3
   },
   "file_extension": ".py",
   "mimetype": "text/x-python",
   "name": "python",
   "nbconvert_exporter": "python",
   "pygments_lexer": "ipython3",
   "version": "3.9.6"
  }
 },
 "nbformat": 4,
 "nbformat_minor": 2
}
