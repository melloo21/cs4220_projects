{
 "cells": [
  {
   "cell_type": "code",
   "execution_count": 3,
   "metadata": {},
   "outputs": [],
   "source": [
    "import pandas as pd\n",
    "import numpy as np\n",
    "from sklearn.metrics import f1_score"
   ]
  },
  {
   "cell_type": "code",
   "execution_count": 17,
   "metadata": {},
   "outputs": [],
   "source": [
    "curr_folder = 'real1'\n",
    "csv_path = f'/Users/ngocanh/Documents/Master/in progress/CS4220/scripts/{curr_folder}_final.csv'\n",
    "bed_path = f'/Users/ngocanh/Documents/Master/in progress/CS4220/{curr_folder}'\n",
    "NUM_TOP = 2\n",
    "algo_dict = {\n",
    "    'mutect2': 'FILTER_Mutect2',\n",
    "    'varscan': 'FILTER_Varscan',\n",
    "    'vardict': 'FILTER_Vardict',\n",
    "    'freebayes': 'FILTER_Freebayes'\n",
    "}"
   ]
  },
  {
   "cell_type": "code",
   "execution_count": 18,
   "metadata": {},
   "outputs": [
    {
     "name": "stderr",
     "output_type": "stream",
     "text": [
      "/var/folders/_0/ztgrcgnj1bd__vhjt7plwd2w0000gn/T/ipykernel_30641/3912418589.py:1: DtypeWarning: Columns (1,52) have mixed types. Specify dtype option on import or set low_memory=False.\n",
      "  df = pd.read_csv(csv_path, delimiter='\\t')\n"
     ]
    }
   ],
   "source": [
    "df = pd.read_csv(csv_path, delimiter='\\t')\n"
   ]
  },
  {
   "cell_type": "code",
   "execution_count": 25,
   "metadata": {},
   "outputs": [],
   "source": [
    "def get_f1(df, pred_col, true_col):\n",
    "    y_pred = df[pred_col].to_numpy()\n",
    "    y_true = df[true_col].to_numpy()\n",
    "    return f1_score(y_true, y_pred)\n",
    "    \n",
    "def naive_algo_1(df):\n",
    "    df['count_num_true'] = df[algo_dict.values()].sum(axis=1)\n",
    "    df['pred_by_at_least_2'] = df.apply(lambda row: True if row['count_num_true'] > 1 else False, axis=1)\n",
    "    df_to_bed = df[df['pred_by_at_least_2'] == True].reset_index(drop=True)\n",
    "    df_to_bed = df_to_bed[['Chr', 'START_POS_REF', 'END_POS_REF']]\n",
    "    df_to_bed.to_csv(f'{bed_path}/{curr_folder}_naive1.bed', sep='\\t', header=False, index=False)\n",
    "    print(\"\\nF1 output from at least 2 algorithms:\" )\n",
    "    print(get_f1(df, 'pred_by_at_least_2', 'is_snv'))\n",
    "\n",
    "def naive_algo_2(df):\n",
    "    f1_score_dict = {}\n",
    "    for algo, col in algo_dict.items():\n",
    "        f1_score_dict[col] = get_f1(df, col, 'is_snv')\n",
    "\n",
    "    print(\"F1 output from individual algos:\")\n",
    "    print(f1_score_dict)\n",
    "    top_cols = dict(sorted(f1_score_dict.items(), key = lambda x: x[1], reverse = True)[:NUM_TOP])\n",
    "    df['pred_by_top_2'] = df.apply(lambda row: all(row[col] for col in top_cols), axis=1)\n",
    "    df_to_bed = df[df['pred_by_top_2'] == True].reset_index(drop=True)\n",
    "    df_to_bed = df_to_bed[['Chr', 'START_POS_REF', 'END_POS_REF']]\n",
    "    df_to_bed.to_csv(f'{bed_path}/{curr_folder}_naive2.bed', sep='\\t', header=False, index=False)\n",
    "    print(f\"\\nF1 output from top 2 algorithms: {top_cols.keys()}\" )\n",
    "    print(get_f1(df, 'pred_by_top_2', 'is_snv'))\n"
   ]
  },
  {
   "cell_type": "code",
   "execution_count": 26,
   "metadata": {},
   "outputs": [
    {
     "name": "stdout",
     "output_type": "stream",
     "text": [
      "F1 output from individual algos:\n",
      "{'FILTER_Mutect2': 0.3578762100322675, 'FILTER_Varscan': 0.013914682484685532, 'FILTER_Vardict': 0.2674309780065512, 'FILTER_Freebayes': 0.2947722567287785}\n",
      "\n",
      "F1 output from top 2 algorithms: dict_keys(['FILTER_Mutect2', 'FILTER_Freebayes'])\n",
      "0.8234854151084517\n"
     ]
    }
   ],
   "source": [
    "naive_algo_2(df)"
   ]
  },
  {
   "cell_type": "code",
   "execution_count": 27,
   "metadata": {},
   "outputs": [
    {
     "name": "stdout",
     "output_type": "stream",
     "text": [
      "\n",
      "F1 output from at least 2 algorithms:\n",
      "0.558579335793358\n"
     ]
    }
   ],
   "source": [
    "naive_algo_1(df)"
   ]
  },
  {
   "cell_type": "code",
   "execution_count": null,
   "metadata": {},
   "outputs": [],
   "source": []
  }
 ],
 "metadata": {
  "kernelspec": {
   "display_name": "cs4220p1",
   "language": "python",
   "name": "cs4220p1"
  },
  "language_info": {
   "codemirror_mode": {
    "name": "ipython",
    "version": 3
   },
   "file_extension": ".py",
   "mimetype": "text/x-python",
   "name": "python",
   "nbconvert_exporter": "python",
   "pygments_lexer": "ipython3",
   "version": "3.12.1"
  },
  "orig_nbformat": 4
 },
 "nbformat": 4,
 "nbformat_minor": 2
}
