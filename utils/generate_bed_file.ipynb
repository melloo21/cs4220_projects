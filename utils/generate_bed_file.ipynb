{
 "cells": [
  {
   "cell_type": "code",
   "execution_count": 30,
   "metadata": {},
   "outputs": [],
   "source": [
    "import joblib\n",
    "import pickle\n",
    "import pandas as pd\n",
    "import numpy as np\n",
    "import seaborn as sns\n",
    "from tabulate import tabulate\n",
    "\n",
    "from collections import Counter\n",
    "import matplotlib.pyplot as plt\n",
    "from sklearn.metrics import precision_recall_fscore_support, confusion_matrix, ConfusionMatrixDisplay\n"
   ]
  },
  {
   "cell_type": "code",
   "execution_count": 32,
   "metadata": {},
   "outputs": [],
   "source": [
    "model_name = f\"combined_median_impute_rf\"\n",
    "filepath = f\"/Users/melloo21/Desktop/NUS Items/CS4220/cs4220_projects/model_assets\"\n",
    "model_name = model_name if \".joblib\" in model_name else f\"{model_name}.joblib\"\n",
    "file = f\"{filepath}/{model_name}\"\n",
    "model = joblib.load(file)"
   ]
  },
  {
   "cell_type": "code",
   "execution_count": 33,
   "metadata": {},
   "outputs": [],
   "source": [
    "def to_fwf(df, fname):\n",
    "    content = tabulate(df.values.tolist(), list(df.columns), tablefmt=\"plain\")\n",
    "    open(fname, \"w\").write(content)"
   ]
  },
  {
   "cell_type": "code",
   "execution_count": 34,
   "metadata": {},
   "outputs": [],
   "source": [
    "\n",
    "test_file = f\"/Users/melloo21/Desktop/NUS Items/CS4220/cs4220_projects/data/feature_set/real2_part2_test.pickle\"\n",
    "\n",
    "with open(f'{test_file}', 'rb') as handle:\n",
    "    test_dataset = pickle.load(handle)"
   ]
  },
  {
   "cell_type": "code",
   "execution_count": 35,
   "metadata": {},
   "outputs": [],
   "source": [
    "# Unhash if combined dataset\n",
    "# test_dataset[\"median_input\"][\"is_syn\"] = 0\n",
    "y_pred = model.predict(test_dataset[\"median_input\"].to_numpy())"
   ]
  },
  {
   "cell_type": "code",
   "execution_count": 36,
   "metadata": {},
   "outputs": [],
   "source": [
    "pred_df = pd.DataFrame({\"pred\":y_pred})"
   ]
  },
  {
   "cell_type": "code",
   "execution_count": 37,
   "metadata": {},
   "outputs": [],
   "source": [
    "# Getting positions\n",
    "bed_df = test_dataset[\"POS_IDX\"][test_dataset[\"POS_IDX\"].index.isin(list(pred_df[pred_df.pred==True].index))]"
   ]
  },
  {
   "cell_type": "code",
   "execution_count": 38,
   "metadata": {},
   "outputs": [],
   "source": [
    "to_fwf(bed_df,\"real2_predictions_big_model\")"
   ]
  },
  {
   "cell_type": "code",
   "execution_count": null,
   "metadata": {},
   "outputs": [],
   "source": []
  }
 ],
 "metadata": {
  "kernelspec": {
   "display_name": "Python 3",
   "language": "python",
   "name": "python3"
  },
  "language_info": {
   "codemirror_mode": {
    "name": "ipython",
    "version": 3
   },
   "file_extension": ".py",
   "mimetype": "text/x-python",
   "name": "python",
   "nbconvert_exporter": "python",
   "pygments_lexer": "ipython3",
   "version": "3.9.6"
  }
 },
 "nbformat": 4,
 "nbformat_minor": 2
}
